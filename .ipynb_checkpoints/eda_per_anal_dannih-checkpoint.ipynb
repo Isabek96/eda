{
 "cells": [
  {
   "cell_type": "code",
   "execution_count": 1,
   "metadata": {
    "id": "Ji4PqRIAVLuN"
   },
   "outputs": [],
   "source": [
    "import requests\n",
    "import pandas as pd\n",
    "import json"
   ]
  },
  {
   "cell_type": "code",
   "execution_count": 2,
   "metadata": {
    "id": "BKyNz3sjWJem"
   },
   "outputs": [],
   "source": [
    "url = 'https://api.coingecko.com/api/v3/coins/bitcoin/market_chart'\n",
    "params = {'vs_currency': 'usd', 'days': '90', 'interval': 'daily'}"
   ]
  },
  {
   "cell_type": "code",
   "execution_count": 3,
   "metadata": {
    "id": "Z0Xl-ZY8Wl8_"
   },
   "outputs": [],
   "source": [
    "response = requests.get(url, params=params)"
   ]
  },
  {
   "cell_type": "code",
   "execution_count": 4,
   "metadata": {
    "colab": {
     "base_uri": "https://localhost:8080/",
     "height": 87
    },
    "id": "o9IOE_N-WqRp",
    "outputId": "81db5ba5-1057-4e40-c844-3a0173bd13bd"
   },
   "outputs": [
    {
     "data": {
      "text/plain": [
       "'{\"prices\":[[1728086400000,62103.01047283253],[1728172800000,62091.932585194016],[1728259200000,62811.79972811266],[1728345600000,62287.39010510681],[1728432000000,62185.230423727575],[1728518400000,60597.15045618275],[1728604800000,60195.18073772453],[1728691200000,62392.34048293159],[1728777600000,63207.77062127557],[1728864000000,62829.533686088886],[1728950400000,66049.99492708022],[1729036800000,66962.21994496793],[1729123200000,67647.54414766871],[1729209600000,67328.10527002988],[1729296000000,68465.61920668735],[1729382400000,68388.87128965274],[1729468800000,68962.82918045693],[1729555200000,67394.85775735618],[1729641600000,67351.04793512498],[1729728000000,66683.96806542306],[1729814400000,68214.05205157402],[1729900800000,66585.66535501445],[1729987200000,67018.1650170265],[1730073600000,67938.55412885673],[1730160000000,69845.304531169],[1730246400000,72781.11308158132],[1730332800000,72342.62171127986],[1730419200000,70264.99735573279],[1730505600000,69507.92256395647],[1730592000000,69299.16036699413],[1730678400000,68803.50626277467],[1730764800000,67793.29782704762],[1730851200000,69335.42553133758],[1730937600000,75620.88606963192],[1731024000000,75987.24178320667],[1731110400000,76550.0213845611],[1731196800000,76630.22631415377],[1731283200000,80466.71654833542],[1731369600000,88637.42000322911],[1731456000000,88264.59974582895],[1731542400000,90488.10007497849],[1731628800000,87407.51273710128],[1731715200000,90947.97509443703],[1731801600000,90606.45489380708],[1731888000000,89841.47194135105],[1731974400000,90534.62459650292],[1732060800000,92251.65240738312],[1732147200000,94217.02229634205],[1732233600000,98509.11859102432],[1732320000000,98927.49494553401],[1732406400000,97679.46381643033],[1732492800000,98015.9355289458],[1732579200000,93004.70093103287],[1732665600000,91931.83077291827],[1732752000000,95981.18057210564],[1732838400000,95661.59595817851],[1732924800000,97453.2473451042],[1733011200000,96513.14234698225],[1733097600000,97311.70719084324],[1733184000000,95833.1362300365],[1733270400000,96031.63097759831],[1733356800000,98881.4694561823],[1733443200000,97201.50036407741],[1733529600000,99973.85150659826],[1733616000000,99781.82999198174],[1733702400000,101235.3717025316],[1733788800000,97353.94700820887],[1733875200000,96649.71446771531],[1733961600000,101123.61811033697],[1734048000000,100000.80836535197],[1734134400000,101352.22971292294],[1734220800000,101367.01064553364],[1734307200000,104721.50151808978],[1734393600000,106074.10723541168],[1734480000000,106034.913402645],[1734566400000,100355.5761481501],[1734652800000,97851.35377075805],[1734739200000,97691.43431692653],[1734825600000,97202.82496847633],[1734912000000,95094.27394862173],[1734998400000,94644.91085464321],[1735084800000,98695.71400782601],[1735171200000,99344.95417367229],[1735257600000,95678.31244565405],[1735344000000,94331.94727053077],[1735430400000,95184.61945288602],[1735516800000,93663.44751964067],[1735603200000,92627.28213113277],[1735689600000,93507.85874741491],[1735776000000,94384.1761153871],[1735814134000,96593.4751745938]],\"market_caps\":[[1728086400000,1226663492771.043],[1728172800000,1226761949791.163],[1728259200000,1241834324867.657],[1728345600000,1231091696620.0955],[1728432000000,1229717180592.4397],[1728518400000,1197736450280.4102],[1728604800000,1189691671375.1472],[1728691200000,1233357176570.333],[1728777600000,1249002272717.2275],[1728864000000,1241241970951.0295],[1728950400000,1306085613997.8015],[1729036800000,1323774576161.621],[1729123200000,1337304399194.887],[1729209600000,1330387728623.8188],[1729296000000,1353541799303.4875],[1729382400000,1351942347611.1997],[1729468800000,1362381684459.9053],[1729555200000,1332326858574.4448],[1729641600000,1331426858508.4004],[1729728000000,1318285437546.2786],[1729814400000,1347888109010.5889],[1729900800000,1313975091942.221],[1729987200000,1325192118637.2595],[1730073600000,1343350549900.1233],[1730160000000,1380874923096.4146],[1730246400000,1439310420089.3665],[1730332800000,1431085552900.1965],[1730419200000,1390195908292.9321],[1730505600000,1374687306836.925],[1730592000000,1370516856365.7996],[1730678400000,1362302032218.0198],[1730764800000,1340192510479.9568],[1730851200000,1370963795352.6948],[1730937600000,1496392703840.9058],[1731024000000,1502620808927.6982],[1731110400000,1514048743889.1255],[1731196800000,1519470275068.1016],[1731283200000,1590846468754.067],[1731369600000,1756619702929.0437],[1731456000000,1741113172482.1243],[1731542400000,1790737763695.3328],[1731628800000,1726797438787.217],[1731715200000,1799276211921.9302],[1731801600000,1790415769635.4927],[1731888000000,1776887033229.9082],[1731974400000,1790917617392.4407],[1732060800000,1825195454018.501],[1732147200000,1862618759426.145],[1732233600000,1948284556982.0486],[1732320000000,1958091000957.8345],[1732406400000,1931255637661.502],[1732492800000,1939446484727.4285],[1732579200000,1838788677873.8657],[1732665600000,1819990514406.0881],[1732752000000,1899088665519.225],[1732838400000,1892297852304.72],[1732924800000,1926826079390.2441],[1733011200000,1910022814269.8855],[1733097600000,1925808416477.5068],[1733184000000,1896576914275.523],[1733270400000,1900922167493.3643],[1733356800000,1957276192604.2603],[1733443200000,1920742551503.6094],[1733529600000,1978389972043.7947],[1733616000000,1974739091620.7542],[1733702400000,2003238967638.8286],[1733788800000,1926047690157.6282],[1733875200000,1913115778728.2837],[1733961600000,2001746436338.842],[1734048000000,1979166149963.3093],[1734134400000,2005406021235.8357],[1734220800000,2007646386698.8667],[1734307200000,2075487816560.1924],[1734393600000,2097460193710.789],[1734480000000,2100629850064.9119],[1734566400000,1985284833093.572],[1734652800000,1937022229972.2085],[1734739200000,1932373308116.0107],[1734825600000,1922768195068.165],[1734912000000,1884599149192.4587],[1734998400000,1874912975786.6604],[1735084800000,1951173788529.116],[1735171200000,1966481159354.1177],[1735257600000,1894744251986.1084],[1735344000000,1867708753554.924],[1735430400000,1885556552231.4314],[1735516800000,1854872605738.8086],[1735603200000,1833188187477.531],[1735689600000,1851839954625.13],[1735776000000,1869193319140.2422],[1735814134000,1912491014187.9114]],\"total_volumes\":[[1728086400000,30349059838.684578],[1728172800000,11095453162.990673],[1728259200000,14592422860.685436],[1728345600000,33878876147.30253],[1728432000000,28626429276.55382],[1728518400000,28530748117.898792],[1728604800000,29481971885.649742],[1728691200000,32008659336.482643],[1728777600000,17665963646.417107],[1728864000000,16784552979.060463],[1728950400000,46553796134.14602],[1729036800000,51797932876.82809],[1729123200000,40640495380.19594],[1729209600000,34512072357.92087],[1729296000000,39984956633.228035],[1729382400000,14110889435.452631],[1729468800000,17253863432.786995],[1729555200000,40485496091.95008],[1729641600000,31398389967.38113],[1729728000000,32676918488.059],[1729814400000,35892606570.03549],[1729900800000,48426924850.053406],[1729987200000,21169467789.89267],[1730073600000,16533385730.434193],[1730160000000,41990540384.96554],[1730246400000,65487782004.97014],[1730332800000,43498144313.67304],[1730419200000,45907074188.570145],[1730505600000,54863092261.31101],[1730592000000,14709379754.965973],[1730678400000,37659435506.757034],[1730764800000,46183110993.79166],[1730851200000,40025021601.49395],[1730937600000,128492534668.23851],[1731024000000,66590396087.4524],[1731110400000,50687468387.720375],[1731196800000,31430906055.796104],[1731283200000,93473126207.67865],[1731369600000,133959805308.72511],[1731456000000,152356811694.44943],[1731542400000,136046309843.60645],[1731628800000,99649391847.08359],[1731715200000,84382485697.84985],[1731801600000,49255174407.368774],[1731888000000,48556083101.64749],[1731974400000,77391724184.19348],[1732060800000,80493234958.49161],[1732147200000,80747272080.24826],[1732233600000,118163852022.3175],[1732320000000,85746174563.98602],[1732406400000,47414200206.70341],[1732492800000,50665680246.86775],[1732579200000,89476321216.0935],[1732665600000,97389239315.52954],[1732752000000,81469353259.75],[1732838400000,49067932024.40325],[1732924800000,74670031635.5065],[1733011200000,43580019720.720634],[1733097600000,49147687432.565895],[1733184000000,101019861361.49252],[1733270400000,87935752287.975],[1733356800000,98230784298.0459],[1733443200000,190460293531.53802],[1733529600000,115812632020.44765],[1733616000000,61061136199.7846],[1733702400000,62677764785.05408],[1733788800000,146846843211.51685],[1733875200000,125835977742.51114],[1733961600000,118484957960.76833],[1734048000000,100092043319.81221],[1734134400000,78802903278.85962],[1734220800000,57321924844.41535],[1734307200000,70645074624.52869],[1734393600000,115184737759.33566],[1734480000000,93417826250.1972],[1734566400000,113692025885.44745],[1734652800000,100611554887.24123],[1734739200000,112340864006.62827],[1734825600000,53058382639.48845],[1734912000000,44619017105.36954],[1734998400000,64937790292.61125],[1735084800000,49169088282.15742],[1735171200000,33963749856.44743],[1735257600000,45049342388.18843],[1735344000000,41498540807.666954],[1735430400000,22429850903.940086],[1735516800000,24065314499.502274],[1735603200000,57595164139.4709],[1735689600000,45327464907.74362],[1735776000000,23275007789.496334],[1735814134000,30849764070.168457]]}'"
      ]
     },
     "execution_count": 4,
     "metadata": {},
     "output_type": "execute_result"
    }
   ],
   "source": [
    "response.text"
   ]
  },
  {
   "cell_type": "code",
   "execution_count": 5,
   "metadata": {
    "id": "xcKFP4SCWrA5"
   },
   "outputs": [],
   "source": [
    "file = response.json()"
   ]
  },
  {
   "cell_type": "code",
   "execution_count": 6,
   "metadata": {
    "id": "iAzY30NTXEdc"
   },
   "outputs": [],
   "source": [
    "prices_df = pd.DataFrame(file[\"prices\"], columns=[\"timestamp\", \"price\"])\n",
    "market_caps_df = pd.DataFrame(file[\"market_caps\"], columns=[\"timestamp\", \"market_cap\"])\n",
    "volumes_df = pd.DataFrame(file[\"total_volumes\"], columns=[\"timestamp\", \"total_volume\"])"
   ]
  },
  {
   "cell_type": "code",
   "execution_count": 7,
   "metadata": {
    "id": "psEHAEz7XQTm"
   },
   "outputs": [],
   "source": [
    "for df in [prices_df, market_caps_df, volumes_df]:\n",
    "    df[\"timestamp\"] = pd.to_datetime(df[\"timestamp\"], unit=\"ms\")\n",
    "    df.set_index(\"timestamp\", inplace=True)"
   ]
  },
  {
   "cell_type": "code",
   "execution_count": 8,
   "metadata": {
    "id": "VjqECvZdXqww"
   },
   "outputs": [],
   "source": [
    "data = prices_df.join(market_caps_df).join(volumes_df)"
   ]
  },
  {
   "cell_type": "markdown",
   "metadata": {
    "id": "WNkCSdsBkYq_"
   },
   "source": [
    "*total-volume - общий_объем"
   ]
  },
  {
   "cell_type": "code",
   "execution_count": 9,
   "metadata": {
    "colab": {
     "base_uri": "https://localhost:8080/",
     "height": 238
    },
    "id": "C-mCmt3cXx6K",
    "outputId": "95379a9f-b960-4b50-9ecd-63c427ef436a"
   },
   "outputs": [
    {
     "data": {
      "text/html": [
       "<div>\n",
       "<style scoped>\n",
       "    .dataframe tbody tr th:only-of-type {\n",
       "        vertical-align: middle;\n",
       "    }\n",
       "\n",
       "    .dataframe tbody tr th {\n",
       "        vertical-align: top;\n",
       "    }\n",
       "\n",
       "    .dataframe thead th {\n",
       "        text-align: right;\n",
       "    }\n",
       "</style>\n",
       "<table border=\"1\" class=\"dataframe\">\n",
       "  <thead>\n",
       "    <tr style=\"text-align: right;\">\n",
       "      <th></th>\n",
       "      <th>price</th>\n",
       "      <th>market_cap</th>\n",
       "      <th>total_volume</th>\n",
       "    </tr>\n",
       "    <tr>\n",
       "      <th>timestamp</th>\n",
       "      <th></th>\n",
       "      <th></th>\n",
       "      <th></th>\n",
       "    </tr>\n",
       "  </thead>\n",
       "  <tbody>\n",
       "    <tr>\n",
       "      <th>2024-10-17</th>\n",
       "      <td>67647.544148</td>\n",
       "      <td>1.337304e+12</td>\n",
       "      <td>4.064050e+10</td>\n",
       "    </tr>\n",
       "    <tr>\n",
       "      <th>2024-11-10</th>\n",
       "      <td>76630.226314</td>\n",
       "      <td>1.519470e+12</td>\n",
       "      <td>3.143091e+10</td>\n",
       "    </tr>\n",
       "    <tr>\n",
       "      <th>2024-12-26</th>\n",
       "      <td>99344.954174</td>\n",
       "      <td>1.966481e+12</td>\n",
       "      <td>3.396375e+10</td>\n",
       "    </tr>\n",
       "    <tr>\n",
       "      <th>2024-10-29</th>\n",
       "      <td>69845.304531</td>\n",
       "      <td>1.380875e+12</td>\n",
       "      <td>4.199054e+10</td>\n",
       "    </tr>\n",
       "    <tr>\n",
       "      <th>2024-10-22</th>\n",
       "      <td>67394.857757</td>\n",
       "      <td>1.332327e+12</td>\n",
       "      <td>4.048550e+10</td>\n",
       "    </tr>\n",
       "  </tbody>\n",
       "</table>\n",
       "</div>"
      ],
      "text/plain": [
       "                   price    market_cap  total_volume\n",
       "timestamp                                           \n",
       "2024-10-17  67647.544148  1.337304e+12  4.064050e+10\n",
       "2024-11-10  76630.226314  1.519470e+12  3.143091e+10\n",
       "2024-12-26  99344.954174  1.966481e+12  3.396375e+10\n",
       "2024-10-29  69845.304531  1.380875e+12  4.199054e+10\n",
       "2024-10-22  67394.857757  1.332327e+12  4.048550e+10"
      ]
     },
     "execution_count": 9,
     "metadata": {},
     "output_type": "execute_result"
    }
   ],
   "source": [
    "data.sample(5)"
   ]
  },
  {
   "cell_type": "code",
   "execution_count": 10,
   "metadata": {
    "colab": {
     "base_uri": "https://localhost:8080/"
    },
    "id": "ZkSoImc8X_--",
    "outputId": "3edeb5b6-ebb3-43c9-ba0d-b7c34e98126d"
   },
   "outputs": [
    {
     "data": {
      "text/plain": [
       "(Timestamp('2024-10-05 00:00:00'), Timestamp('2025-01-02 10:35:34'))"
      ]
     },
     "execution_count": 10,
     "metadata": {},
     "output_type": "execute_result"
    }
   ],
   "source": [
    "data.index.min(), data.index.max()"
   ]
  },
  {
   "cell_type": "code",
   "execution_count": 11,
   "metadata": {
    "id": "u3rJkzuuYJDO"
   },
   "outputs": [],
   "source": [
    "pd_df = data.reset_index().copy()"
   ]
  },
  {
   "cell_type": "code",
   "execution_count": 12,
   "metadata": {
    "id": "0ZF74ncXZBui"
   },
   "outputs": [],
   "source": [
    "data = pd_df.copy()"
   ]
  },
  {
   "cell_type": "code",
   "execution_count": 13,
   "metadata": {
    "id": "-3_uvGR4ZMyj"
   },
   "outputs": [],
   "source": [
    "data.timestamp = data.timestamp.dt.date"
   ]
  },
  {
   "cell_type": "code",
   "execution_count": 14,
   "metadata": {
    "colab": {
     "base_uri": "https://localhost:8080/",
     "height": 424
    },
    "id": "5VBtowWQZNcF",
    "outputId": "1dfee1c6-9c64-45c8-845e-b9cf9bc65fd0"
   },
   "outputs": [
    {
     "data": {
      "text/html": [
       "<div>\n",
       "<style scoped>\n",
       "    .dataframe tbody tr th:only-of-type {\n",
       "        vertical-align: middle;\n",
       "    }\n",
       "\n",
       "    .dataframe tbody tr th {\n",
       "        vertical-align: top;\n",
       "    }\n",
       "\n",
       "    .dataframe thead th {\n",
       "        text-align: right;\n",
       "    }\n",
       "</style>\n",
       "<table border=\"1\" class=\"dataframe\">\n",
       "  <thead>\n",
       "    <tr style=\"text-align: right;\">\n",
       "      <th></th>\n",
       "      <th>timestamp</th>\n",
       "      <th>price</th>\n",
       "      <th>market_cap</th>\n",
       "      <th>total_volume</th>\n",
       "    </tr>\n",
       "  </thead>\n",
       "  <tbody>\n",
       "    <tr>\n",
       "      <th>0</th>\n",
       "      <td>2024-10-05</td>\n",
       "      <td>62103.010473</td>\n",
       "      <td>1.226663e+12</td>\n",
       "      <td>3.034906e+10</td>\n",
       "    </tr>\n",
       "    <tr>\n",
       "      <th>1</th>\n",
       "      <td>2024-10-06</td>\n",
       "      <td>62091.932585</td>\n",
       "      <td>1.226762e+12</td>\n",
       "      <td>1.109545e+10</td>\n",
       "    </tr>\n",
       "    <tr>\n",
       "      <th>2</th>\n",
       "      <td>2024-10-07</td>\n",
       "      <td>62811.799728</td>\n",
       "      <td>1.241834e+12</td>\n",
       "      <td>1.459242e+10</td>\n",
       "    </tr>\n",
       "    <tr>\n",
       "      <th>3</th>\n",
       "      <td>2024-10-08</td>\n",
       "      <td>62287.390105</td>\n",
       "      <td>1.231092e+12</td>\n",
       "      <td>3.387888e+10</td>\n",
       "    </tr>\n",
       "    <tr>\n",
       "      <th>4</th>\n",
       "      <td>2024-10-09</td>\n",
       "      <td>62185.230424</td>\n",
       "      <td>1.229717e+12</td>\n",
       "      <td>2.862643e+10</td>\n",
       "    </tr>\n",
       "    <tr>\n",
       "      <th>...</th>\n",
       "      <td>...</td>\n",
       "      <td>...</td>\n",
       "      <td>...</td>\n",
       "      <td>...</td>\n",
       "    </tr>\n",
       "    <tr>\n",
       "      <th>86</th>\n",
       "      <td>2024-12-30</td>\n",
       "      <td>93663.447520</td>\n",
       "      <td>1.854873e+12</td>\n",
       "      <td>2.406531e+10</td>\n",
       "    </tr>\n",
       "    <tr>\n",
       "      <th>87</th>\n",
       "      <td>2024-12-31</td>\n",
       "      <td>92627.282131</td>\n",
       "      <td>1.833188e+12</td>\n",
       "      <td>5.759516e+10</td>\n",
       "    </tr>\n",
       "    <tr>\n",
       "      <th>88</th>\n",
       "      <td>2025-01-01</td>\n",
       "      <td>93507.858747</td>\n",
       "      <td>1.851840e+12</td>\n",
       "      <td>4.532746e+10</td>\n",
       "    </tr>\n",
       "    <tr>\n",
       "      <th>89</th>\n",
       "      <td>2025-01-02</td>\n",
       "      <td>94384.176115</td>\n",
       "      <td>1.869193e+12</td>\n",
       "      <td>2.327501e+10</td>\n",
       "    </tr>\n",
       "    <tr>\n",
       "      <th>90</th>\n",
       "      <td>2025-01-02</td>\n",
       "      <td>96593.475175</td>\n",
       "      <td>1.912491e+12</td>\n",
       "      <td>3.084976e+10</td>\n",
       "    </tr>\n",
       "  </tbody>\n",
       "</table>\n",
       "<p>91 rows × 4 columns</p>\n",
       "</div>"
      ],
      "text/plain": [
       "     timestamp         price    market_cap  total_volume\n",
       "0   2024-10-05  62103.010473  1.226663e+12  3.034906e+10\n",
       "1   2024-10-06  62091.932585  1.226762e+12  1.109545e+10\n",
       "2   2024-10-07  62811.799728  1.241834e+12  1.459242e+10\n",
       "3   2024-10-08  62287.390105  1.231092e+12  3.387888e+10\n",
       "4   2024-10-09  62185.230424  1.229717e+12  2.862643e+10\n",
       "..         ...           ...           ...           ...\n",
       "86  2024-12-30  93663.447520  1.854873e+12  2.406531e+10\n",
       "87  2024-12-31  92627.282131  1.833188e+12  5.759516e+10\n",
       "88  2025-01-01  93507.858747  1.851840e+12  4.532746e+10\n",
       "89  2025-01-02  94384.176115  1.869193e+12  2.327501e+10\n",
       "90  2025-01-02  96593.475175  1.912491e+12  3.084976e+10\n",
       "\n",
       "[91 rows x 4 columns]"
      ]
     },
     "execution_count": 14,
     "metadata": {},
     "output_type": "execute_result"
    }
   ],
   "source": [
    "data"
   ]
  },
  {
   "cell_type": "code",
   "execution_count": 15,
   "metadata": {
    "colab": {
     "base_uri": "https://localhost:8080/"
    },
    "id": "ADzEvTbhZfvB",
    "outputId": "ec2febb6-57ea-474a-f0f4-3d6c20a21e16"
   },
   "outputs": [
    {
     "name": "stdout",
     "output_type": "stream",
     "text": [
      "<class 'pandas.core.frame.DataFrame'>\n",
      "RangeIndex: 91 entries, 0 to 90\n",
      "Data columns (total 4 columns):\n",
      " #   Column        Non-Null Count  Dtype  \n",
      "---  ------        --------------  -----  \n",
      " 0   timestamp     91 non-null     object \n",
      " 1   price         91 non-null     float64\n",
      " 2   market_cap    91 non-null     float64\n",
      " 3   total_volume  91 non-null     float64\n",
      "dtypes: float64(3), object(1)\n",
      "memory usage: 3.0+ KB\n"
     ]
    }
   ],
   "source": [
    "data.info()"
   ]
  },
  {
   "cell_type": "code",
   "execution_count": 16,
   "metadata": {
    "colab": {
     "base_uri": "https://localhost:8080/",
     "height": 143
    },
    "id": "xE6ifbbfbLFs",
    "outputId": "eb4e79a0-66a9-45d7-9991-60a4231b8c53"
   },
   "outputs": [
    {
     "data": {
      "text/html": [
       "<div>\n",
       "<style scoped>\n",
       "    .dataframe tbody tr th:only-of-type {\n",
       "        vertical-align: middle;\n",
       "    }\n",
       "\n",
       "    .dataframe tbody tr th {\n",
       "        vertical-align: top;\n",
       "    }\n",
       "\n",
       "    .dataframe thead th {\n",
       "        text-align: right;\n",
       "    }\n",
       "</style>\n",
       "<table border=\"1\" class=\"dataframe\">\n",
       "  <thead>\n",
       "    <tr style=\"text-align: right;\">\n",
       "      <th></th>\n",
       "      <th>price</th>\n",
       "      <th>market_cap</th>\n",
       "      <th>total_volume</th>\n",
       "    </tr>\n",
       "  </thead>\n",
       "  <tbody>\n",
       "    <tr>\n",
       "      <th>price</th>\n",
       "      <td>1.000000</td>\n",
       "      <td>0.999990</td>\n",
       "      <td>0.568553</td>\n",
       "    </tr>\n",
       "    <tr>\n",
       "      <th>market_cap</th>\n",
       "      <td>0.999990</td>\n",
       "      <td>1.000000</td>\n",
       "      <td>0.567321</td>\n",
       "    </tr>\n",
       "    <tr>\n",
       "      <th>total_volume</th>\n",
       "      <td>0.568553</td>\n",
       "      <td>0.567321</td>\n",
       "      <td>1.000000</td>\n",
       "    </tr>\n",
       "  </tbody>\n",
       "</table>\n",
       "</div>"
      ],
      "text/plain": [
       "                 price  market_cap  total_volume\n",
       "price         1.000000    0.999990      0.568553\n",
       "market_cap    0.999990    1.000000      0.567321\n",
       "total_volume  0.568553    0.567321      1.000000"
      ]
     },
     "execution_count": 16,
     "metadata": {},
     "output_type": "execute_result"
    }
   ],
   "source": [
    "data[['price','market_cap','total_volume']].corr()"
   ]
  },
  {
   "cell_type": "code",
   "execution_count": 17,
   "metadata": {
    "id": "zDPp1Fi4bqV9"
   },
   "outputs": [],
   "source": [
    "data = data.drop(columns=['market_cap'])"
   ]
  },
  {
   "cell_type": "code",
   "execution_count": 18,
   "metadata": {
    "colab": {
     "base_uri": "https://localhost:8080/",
     "height": 112
    },
    "id": "YxV8kOZdcp3A",
    "outputId": "92a03ea9-cc3e-4ea0-c327-d89fc4d34227"
   },
   "outputs": [
    {
     "data": {
      "text/html": [
       "<div>\n",
       "<style scoped>\n",
       "    .dataframe tbody tr th:only-of-type {\n",
       "        vertical-align: middle;\n",
       "    }\n",
       "\n",
       "    .dataframe tbody tr th {\n",
       "        vertical-align: top;\n",
       "    }\n",
       "\n",
       "    .dataframe thead th {\n",
       "        text-align: right;\n",
       "    }\n",
       "</style>\n",
       "<table border=\"1\" class=\"dataframe\">\n",
       "  <thead>\n",
       "    <tr style=\"text-align: right;\">\n",
       "      <th></th>\n",
       "      <th>price</th>\n",
       "      <th>total_volume</th>\n",
       "    </tr>\n",
       "  </thead>\n",
       "  <tbody>\n",
       "    <tr>\n",
       "      <th>price</th>\n",
       "      <td>1.000000</td>\n",
       "      <td>0.568553</td>\n",
       "    </tr>\n",
       "    <tr>\n",
       "      <th>total_volume</th>\n",
       "      <td>0.568553</td>\n",
       "      <td>1.000000</td>\n",
       "    </tr>\n",
       "  </tbody>\n",
       "</table>\n",
       "</div>"
      ],
      "text/plain": [
       "                 price  total_volume\n",
       "price         1.000000      0.568553\n",
       "total_volume  0.568553      1.000000"
      ]
     },
     "execution_count": 18,
     "metadata": {},
     "output_type": "execute_result"
    }
   ],
   "source": [
    "data[['price','total_volume']].corr()"
   ]
  },
  {
   "cell_type": "code",
   "execution_count": 19,
   "metadata": {
    "id": "lL0NyBkqc1RB"
   },
   "outputs": [],
   "source": [
    "df_norm = pd.DataFrame()"
   ]
  },
  {
   "cell_type": "code",
   "execution_count": 20,
   "metadata": {
    "id": "ZjSX_870fs4x"
   },
   "outputs": [],
   "source": [
    "df_norm[\"timestamp\"] = data.timestamp"
   ]
  },
  {
   "cell_type": "code",
   "execution_count": 21,
   "metadata": {
    "colab": {
     "base_uri": "https://localhost:8080/",
     "height": 206
    },
    "id": "7DbzNZkDf54y",
    "outputId": "46059690-3fe7-4342-e7af-efabf571289b"
   },
   "outputs": [
    {
     "data": {
      "text/html": [
       "<div>\n",
       "<style scoped>\n",
       "    .dataframe tbody tr th:only-of-type {\n",
       "        vertical-align: middle;\n",
       "    }\n",
       "\n",
       "    .dataframe tbody tr th {\n",
       "        vertical-align: top;\n",
       "    }\n",
       "\n",
       "    .dataframe thead th {\n",
       "        text-align: right;\n",
       "    }\n",
       "</style>\n",
       "<table border=\"1\" class=\"dataframe\">\n",
       "  <thead>\n",
       "    <tr style=\"text-align: right;\">\n",
       "      <th></th>\n",
       "      <th>timestamp</th>\n",
       "    </tr>\n",
       "  </thead>\n",
       "  <tbody>\n",
       "    <tr>\n",
       "      <th>0</th>\n",
       "      <td>2024-10-05</td>\n",
       "    </tr>\n",
       "    <tr>\n",
       "      <th>1</th>\n",
       "      <td>2024-10-06</td>\n",
       "    </tr>\n",
       "    <tr>\n",
       "      <th>2</th>\n",
       "      <td>2024-10-07</td>\n",
       "    </tr>\n",
       "    <tr>\n",
       "      <th>3</th>\n",
       "      <td>2024-10-08</td>\n",
       "    </tr>\n",
       "    <tr>\n",
       "      <th>4</th>\n",
       "      <td>2024-10-09</td>\n",
       "    </tr>\n",
       "  </tbody>\n",
       "</table>\n",
       "</div>"
      ],
      "text/plain": [
       "    timestamp\n",
       "0  2024-10-05\n",
       "1  2024-10-06\n",
       "2  2024-10-07\n",
       "3  2024-10-08\n",
       "4  2024-10-09"
      ]
     },
     "execution_count": 21,
     "metadata": {},
     "output_type": "execute_result"
    }
   ],
   "source": [
    "df_norm.head()"
   ]
  },
  {
   "cell_type": "code",
   "execution_count": 22,
   "metadata": {
    "id": "lbE75zgbf67c"
   },
   "outputs": [],
   "source": [
    "df_norm['price'] = (data.price - data.price.mean())/data.price.std()"
   ]
  },
  {
   "cell_type": "code",
   "execution_count": 23,
   "metadata": {
    "colab": {
     "base_uri": "https://localhost:8080/",
     "height": 206
    },
    "id": "imIv-Nb5ghM5",
    "outputId": "9d4a19a8-05ca-4ad7-d870-a5c3545cccad"
   },
   "outputs": [
    {
     "data": {
      "text/html": [
       "<div>\n",
       "<style scoped>\n",
       "    .dataframe tbody tr th:only-of-type {\n",
       "        vertical-align: middle;\n",
       "    }\n",
       "\n",
       "    .dataframe tbody tr th {\n",
       "        vertical-align: top;\n",
       "    }\n",
       "\n",
       "    .dataframe thead th {\n",
       "        text-align: right;\n",
       "    }\n",
       "</style>\n",
       "<table border=\"1\" class=\"dataframe\">\n",
       "  <thead>\n",
       "    <tr style=\"text-align: right;\">\n",
       "      <th></th>\n",
       "      <th>timestamp</th>\n",
       "      <th>price</th>\n",
       "    </tr>\n",
       "  </thead>\n",
       "  <tbody>\n",
       "    <tr>\n",
       "      <th>0</th>\n",
       "      <td>2024-10-05</td>\n",
       "      <td>-1.513716</td>\n",
       "    </tr>\n",
       "    <tr>\n",
       "      <th>1</th>\n",
       "      <td>2024-10-06</td>\n",
       "      <td>-1.514466</td>\n",
       "    </tr>\n",
       "    <tr>\n",
       "      <th>2</th>\n",
       "      <td>2024-10-07</td>\n",
       "      <td>-1.465719</td>\n",
       "    </tr>\n",
       "    <tr>\n",
       "      <th>3</th>\n",
       "      <td>2024-10-08</td>\n",
       "      <td>-1.501230</td>\n",
       "    </tr>\n",
       "    <tr>\n",
       "      <th>4</th>\n",
       "      <td>2024-10-09</td>\n",
       "      <td>-1.508148</td>\n",
       "    </tr>\n",
       "  </tbody>\n",
       "</table>\n",
       "</div>"
      ],
      "text/plain": [
       "    timestamp     price\n",
       "0  2024-10-05 -1.513716\n",
       "1  2024-10-06 -1.514466\n",
       "2  2024-10-07 -1.465719\n",
       "3  2024-10-08 -1.501230\n",
       "4  2024-10-09 -1.508148"
      ]
     },
     "execution_count": 23,
     "metadata": {},
     "output_type": "execute_result"
    }
   ],
   "source": [
    "df_norm.head()"
   ]
  },
  {
   "cell_type": "code",
   "execution_count": 24,
   "metadata": {
    "id": "zOIfT7CEhAoC"
   },
   "outputs": [],
   "source": [
    "df_norm['total_volume'] = (data.total_volume - data.total_volume.mean())/data.total_volume.std()"
   ]
  },
  {
   "cell_type": "code",
   "execution_count": 25,
   "metadata": {
    "colab": {
     "base_uri": "https://localhost:8080/",
     "height": 206
    },
    "id": "muWJKHavhqyF",
    "outputId": "782d9ed1-a0e7-4fc6-aa63-3c995c576c3f"
   },
   "outputs": [
    {
     "data": {
      "text/html": [
       "<div>\n",
       "<style scoped>\n",
       "    .dataframe tbody tr th:only-of-type {\n",
       "        vertical-align: middle;\n",
       "    }\n",
       "\n",
       "    .dataframe tbody tr th {\n",
       "        vertical-align: top;\n",
       "    }\n",
       "\n",
       "    .dataframe thead th {\n",
       "        text-align: right;\n",
       "    }\n",
       "</style>\n",
       "<table border=\"1\" class=\"dataframe\">\n",
       "  <thead>\n",
       "    <tr style=\"text-align: right;\">\n",
       "      <th></th>\n",
       "      <th>timestamp</th>\n",
       "      <th>price</th>\n",
       "      <th>total_volume</th>\n",
       "    </tr>\n",
       "  </thead>\n",
       "  <tbody>\n",
       "    <tr>\n",
       "      <th>0</th>\n",
       "      <td>2024-10-05</td>\n",
       "      <td>-1.513716</td>\n",
       "      <td>-0.860575</td>\n",
       "    </tr>\n",
       "    <tr>\n",
       "      <th>1</th>\n",
       "      <td>2024-10-06</td>\n",
       "      <td>-1.514466</td>\n",
       "      <td>-1.375246</td>\n",
       "    </tr>\n",
       "    <tr>\n",
       "      <th>2</th>\n",
       "      <td>2024-10-07</td>\n",
       "      <td>-1.465719</td>\n",
       "      <td>-1.281768</td>\n",
       "    </tr>\n",
       "    <tr>\n",
       "      <th>3</th>\n",
       "      <td>2024-10-08</td>\n",
       "      <td>-1.501230</td>\n",
       "      <td>-0.766219</td>\n",
       "    </tr>\n",
       "    <tr>\n",
       "      <th>4</th>\n",
       "      <td>2024-10-09</td>\n",
       "      <td>-1.508148</td>\n",
       "      <td>-0.906623</td>\n",
       "    </tr>\n",
       "  </tbody>\n",
       "</table>\n",
       "</div>"
      ],
      "text/plain": [
       "    timestamp     price  total_volume\n",
       "0  2024-10-05 -1.513716     -0.860575\n",
       "1  2024-10-06 -1.514466     -1.375246\n",
       "2  2024-10-07 -1.465719     -1.281768\n",
       "3  2024-10-08 -1.501230     -0.766219\n",
       "4  2024-10-09 -1.508148     -0.906623"
      ]
     },
     "execution_count": 25,
     "metadata": {},
     "output_type": "execute_result"
    }
   ],
   "source": [
    "df_norm.head()"
   ]
  },
  {
   "cell_type": "code",
   "execution_count": 26,
   "metadata": {
    "id": "MjE0DzQHhrcF"
   },
   "outputs": [],
   "source": [
    "df_norm['EMA'] = df_norm['price'].rolling(window=4).mean()"
   ]
  },
  {
   "cell_type": "code",
   "execution_count": 27,
   "metadata": {
    "colab": {
     "base_uri": "https://localhost:8080/",
     "height": 424
    },
    "id": "qSw7E294iOSn",
    "outputId": "2cfb0d7e-3e21-4630-97b9-21d735083594"
   },
   "outputs": [
    {
     "data": {
      "text/html": [
       "<div>\n",
       "<style scoped>\n",
       "    .dataframe tbody tr th:only-of-type {\n",
       "        vertical-align: middle;\n",
       "    }\n",
       "\n",
       "    .dataframe tbody tr th {\n",
       "        vertical-align: top;\n",
       "    }\n",
       "\n",
       "    .dataframe thead th {\n",
       "        text-align: right;\n",
       "    }\n",
       "</style>\n",
       "<table border=\"1\" class=\"dataframe\">\n",
       "  <thead>\n",
       "    <tr style=\"text-align: right;\">\n",
       "      <th></th>\n",
       "      <th>timestamp</th>\n",
       "      <th>price</th>\n",
       "      <th>total_volume</th>\n",
       "      <th>EMA</th>\n",
       "    </tr>\n",
       "  </thead>\n",
       "  <tbody>\n",
       "    <tr>\n",
       "      <th>0</th>\n",
       "      <td>2024-10-05</td>\n",
       "      <td>-1.513716</td>\n",
       "      <td>-0.860575</td>\n",
       "      <td>NaN</td>\n",
       "    </tr>\n",
       "    <tr>\n",
       "      <th>1</th>\n",
       "      <td>2024-10-06</td>\n",
       "      <td>-1.514466</td>\n",
       "      <td>-1.375246</td>\n",
       "      <td>NaN</td>\n",
       "    </tr>\n",
       "    <tr>\n",
       "      <th>2</th>\n",
       "      <td>2024-10-07</td>\n",
       "      <td>-1.465719</td>\n",
       "      <td>-1.281768</td>\n",
       "      <td>NaN</td>\n",
       "    </tr>\n",
       "    <tr>\n",
       "      <th>3</th>\n",
       "      <td>2024-10-08</td>\n",
       "      <td>-1.501230</td>\n",
       "      <td>-0.766219</td>\n",
       "      <td>-1.498783</td>\n",
       "    </tr>\n",
       "    <tr>\n",
       "      <th>4</th>\n",
       "      <td>2024-10-09</td>\n",
       "      <td>-1.508148</td>\n",
       "      <td>-0.906623</td>\n",
       "      <td>-1.497391</td>\n",
       "    </tr>\n",
       "    <tr>\n",
       "      <th>...</th>\n",
       "      <td>...</td>\n",
       "      <td>...</td>\n",
       "      <td>...</td>\n",
       "      <td>...</td>\n",
       "    </tr>\n",
       "    <tr>\n",
       "      <th>86</th>\n",
       "      <td>2024-12-30</td>\n",
       "      <td>0.623432</td>\n",
       "      <td>-1.028547</td>\n",
       "      <td>0.694611</td>\n",
       "    </tr>\n",
       "    <tr>\n",
       "      <th>87</th>\n",
       "      <td>2024-12-31</td>\n",
       "      <td>0.553267</td>\n",
       "      <td>-0.132255</td>\n",
       "      <td>0.642960</td>\n",
       "    </tr>\n",
       "    <tr>\n",
       "      <th>88</th>\n",
       "      <td>2025-01-01</td>\n",
       "      <td>0.612896</td>\n",
       "      <td>-0.460185</td>\n",
       "      <td>0.629009</td>\n",
       "    </tr>\n",
       "    <tr>\n",
       "      <th>89</th>\n",
       "      <td>2025-01-02</td>\n",
       "      <td>0.672237</td>\n",
       "      <td>-1.049672</td>\n",
       "      <td>0.615458</td>\n",
       "    </tr>\n",
       "    <tr>\n",
       "      <th>90</th>\n",
       "      <td>2025-01-02</td>\n",
       "      <td>0.821842</td>\n",
       "      <td>-0.847191</td>\n",
       "      <td>0.665061</td>\n",
       "    </tr>\n",
       "  </tbody>\n",
       "</table>\n",
       "<p>91 rows × 4 columns</p>\n",
       "</div>"
      ],
      "text/plain": [
       "     timestamp     price  total_volume       EMA\n",
       "0   2024-10-05 -1.513716     -0.860575       NaN\n",
       "1   2024-10-06 -1.514466     -1.375246       NaN\n",
       "2   2024-10-07 -1.465719     -1.281768       NaN\n",
       "3   2024-10-08 -1.501230     -0.766219 -1.498783\n",
       "4   2024-10-09 -1.508148     -0.906623 -1.497391\n",
       "..         ...       ...           ...       ...\n",
       "86  2024-12-30  0.623432     -1.028547  0.694611\n",
       "87  2024-12-31  0.553267     -0.132255  0.642960\n",
       "88  2025-01-01  0.612896     -0.460185  0.629009\n",
       "89  2025-01-02  0.672237     -1.049672  0.615458\n",
       "90  2025-01-02  0.821842     -0.847191  0.665061\n",
       "\n",
       "[91 rows x 4 columns]"
      ]
     },
     "execution_count": 27,
     "metadata": {},
     "output_type": "execute_result"
    }
   ],
   "source": [
    "df_norm"
   ]
  },
  {
   "cell_type": "code",
   "execution_count": 28,
   "metadata": {
    "colab": {
     "base_uri": "https://localhost:8080/"
    },
    "id": "-YzTdYF3iPLs",
    "outputId": "5e282264-e094-4ae2-f96a-30c3da861585"
   },
   "outputs": [],
   "source": [
    "df_norm['EMA'] = df_norm['EMA'].fillna(method='ffill').fillna(method='bfill')"
   ]
  },
  {
   "cell_type": "code",
   "execution_count": 29,
   "metadata": {
    "colab": {
     "base_uri": "https://localhost:8080/",
     "height": 424
    },
    "id": "QlIn6omZirzI",
    "outputId": "42cb54bf-482a-4347-edaa-d831f7464c56"
   },
   "outputs": [
    {
     "data": {
      "text/html": [
       "<div>\n",
       "<style scoped>\n",
       "    .dataframe tbody tr th:only-of-type {\n",
       "        vertical-align: middle;\n",
       "    }\n",
       "\n",
       "    .dataframe tbody tr th {\n",
       "        vertical-align: top;\n",
       "    }\n",
       "\n",
       "    .dataframe thead th {\n",
       "        text-align: right;\n",
       "    }\n",
       "</style>\n",
       "<table border=\"1\" class=\"dataframe\">\n",
       "  <thead>\n",
       "    <tr style=\"text-align: right;\">\n",
       "      <th></th>\n",
       "      <th>timestamp</th>\n",
       "      <th>price</th>\n",
       "      <th>total_volume</th>\n",
       "      <th>EMA</th>\n",
       "    </tr>\n",
       "  </thead>\n",
       "  <tbody>\n",
       "    <tr>\n",
       "      <th>0</th>\n",
       "      <td>2024-10-05</td>\n",
       "      <td>-1.513716</td>\n",
       "      <td>-0.860575</td>\n",
       "      <td>-1.498783</td>\n",
       "    </tr>\n",
       "    <tr>\n",
       "      <th>1</th>\n",
       "      <td>2024-10-06</td>\n",
       "      <td>-1.514466</td>\n",
       "      <td>-1.375246</td>\n",
       "      <td>-1.498783</td>\n",
       "    </tr>\n",
       "    <tr>\n",
       "      <th>2</th>\n",
       "      <td>2024-10-07</td>\n",
       "      <td>-1.465719</td>\n",
       "      <td>-1.281768</td>\n",
       "      <td>-1.498783</td>\n",
       "    </tr>\n",
       "    <tr>\n",
       "      <th>3</th>\n",
       "      <td>2024-10-08</td>\n",
       "      <td>-1.501230</td>\n",
       "      <td>-0.766219</td>\n",
       "      <td>-1.498783</td>\n",
       "    </tr>\n",
       "    <tr>\n",
       "      <th>4</th>\n",
       "      <td>2024-10-09</td>\n",
       "      <td>-1.508148</td>\n",
       "      <td>-0.906623</td>\n",
       "      <td>-1.497391</td>\n",
       "    </tr>\n",
       "    <tr>\n",
       "      <th>...</th>\n",
       "      <td>...</td>\n",
       "      <td>...</td>\n",
       "      <td>...</td>\n",
       "      <td>...</td>\n",
       "    </tr>\n",
       "    <tr>\n",
       "      <th>86</th>\n",
       "      <td>2024-12-30</td>\n",
       "      <td>0.623432</td>\n",
       "      <td>-1.028547</td>\n",
       "      <td>0.694611</td>\n",
       "    </tr>\n",
       "    <tr>\n",
       "      <th>87</th>\n",
       "      <td>2024-12-31</td>\n",
       "      <td>0.553267</td>\n",
       "      <td>-0.132255</td>\n",
       "      <td>0.642960</td>\n",
       "    </tr>\n",
       "    <tr>\n",
       "      <th>88</th>\n",
       "      <td>2025-01-01</td>\n",
       "      <td>0.612896</td>\n",
       "      <td>-0.460185</td>\n",
       "      <td>0.629009</td>\n",
       "    </tr>\n",
       "    <tr>\n",
       "      <th>89</th>\n",
       "      <td>2025-01-02</td>\n",
       "      <td>0.672237</td>\n",
       "      <td>-1.049672</td>\n",
       "      <td>0.615458</td>\n",
       "    </tr>\n",
       "    <tr>\n",
       "      <th>90</th>\n",
       "      <td>2025-01-02</td>\n",
       "      <td>0.821842</td>\n",
       "      <td>-0.847191</td>\n",
       "      <td>0.665061</td>\n",
       "    </tr>\n",
       "  </tbody>\n",
       "</table>\n",
       "<p>91 rows × 4 columns</p>\n",
       "</div>"
      ],
      "text/plain": [
       "     timestamp     price  total_volume       EMA\n",
       "0   2024-10-05 -1.513716     -0.860575 -1.498783\n",
       "1   2024-10-06 -1.514466     -1.375246 -1.498783\n",
       "2   2024-10-07 -1.465719     -1.281768 -1.498783\n",
       "3   2024-10-08 -1.501230     -0.766219 -1.498783\n",
       "4   2024-10-09 -1.508148     -0.906623 -1.497391\n",
       "..         ...       ...           ...       ...\n",
       "86  2024-12-30  0.623432     -1.028547  0.694611\n",
       "87  2024-12-31  0.553267     -0.132255  0.642960\n",
       "88  2025-01-01  0.612896     -0.460185  0.629009\n",
       "89  2025-01-02  0.672237     -1.049672  0.615458\n",
       "90  2025-01-02  0.821842     -0.847191  0.665061\n",
       "\n",
       "[91 rows x 4 columns]"
      ]
     },
     "execution_count": 29,
     "metadata": {},
     "output_type": "execute_result"
    }
   ],
   "source": [
    "df_norm"
   ]
  },
  {
   "cell_type": "code",
   "execution_count": 30,
   "metadata": {
    "id": "uYqNk1hCis_o"
   },
   "outputs": [],
   "source": [
    "df_norm['timestamp'] = pd.to_datetime(df_norm['timestamp'])"
   ]
  },
  {
   "cell_type": "code",
   "execution_count": 31,
   "metadata": {
    "colab": {
     "base_uri": "https://localhost:8080/"
    },
    "id": "4G2MUlVpi1zE",
    "outputId": "338a7e1c-1139-4917-adc0-bedfa7499ff7"
   },
   "outputs": [
    {
     "name": "stdout",
     "output_type": "stream",
     "text": [
      "<class 'pandas.core.frame.DataFrame'>\n",
      "RangeIndex: 91 entries, 0 to 90\n",
      "Data columns (total 4 columns):\n",
      " #   Column        Non-Null Count  Dtype         \n",
      "---  ------        --------------  -----         \n",
      " 0   timestamp     91 non-null     datetime64[ns]\n",
      " 1   price         91 non-null     float64       \n",
      " 2   total_volume  91 non-null     float64       \n",
      " 3   EMA           91 non-null     float64       \n",
      "dtypes: datetime64[ns](1), float64(3)\n",
      "memory usage: 3.0 KB\n"
     ]
    }
   ],
   "source": [
    "df_norm.info()"
   ]
  },
  {
   "cell_type": "code",
   "execution_count": 32,
   "metadata": {
    "id": "ENk4kmKbi2v6"
   },
   "outputs": [],
   "source": [
    "import matplotlib.pyplot as plt"
   ]
  },
  {
   "cell_type": "code",
   "execution_count": 33,
   "metadata": {
    "colab": {
     "base_uri": "https://localhost:8080/",
     "height": 472
    },
    "id": "6IrDKOgDi8wq",
    "outputId": "5be175e3-7e63-4c34-d278-bd9b05dea8fd"
   },
   "outputs": [
    {
     "data": {
      "image/png": "[encoded data removed]",
      "text/plain": [
       "<Figure size 640x480 with 1 Axes>"
      ]
     },
     "metadata": {},
     "output_type": "display_data"
    }
   ],
   "source": [
    "plt.plot(df_norm['timestamp'], df_norm['price'], label='price', color='red')\n",
    "plt.plot(df_norm['timestamp'], df_norm['EMA'], label='EMA', color='blue')\n",
    "plt.plot(df_norm['timestamp'], df_norm['total_volume'], label='total', color='green', alpha=0.5)\n",
    "plt.xlabel('timestamp')\n",
    "plt.ylabel('value')\n",
    "plt.title('price, EMA, total for time')\n",
    "plt.legend()\n",
    "plt.grid(True)"
   ]
  },
  {
   "cell_type": "code",
   "execution_count": null,
   "metadata": {
    "id": "i9uONV4pjIFv"
   },
   "outputs": [],
   "source": []
  },
  {
   "cell_type": "code",
   "execution_count": null,
   "metadata": {},
   "outputs": [],
   "source": []
  },
  {
   "cell_type": "code",
   "execution_count": null,
   "metadata": {},
   "outputs": [],
   "source": []
  },
  {
   "cell_type": "code",
   "execution_count": null,
   "metadata": {},
   "outputs": [],
   "source": []
  },
  {
   "cell_type": "code",
   "execution_count": null,
   "metadata": {},
   "outputs": [],
   "source": []
  },
  {
   "cell_type": "code",
   "execution_count": null,
   "metadata": {},
   "outputs": [],
   "source": []
  }
 ],
 "metadata": {
  "colab": {
   "provenance": []
  },
  "kernelspec": {
   "display_name": "Python 3 (ipykernel)",
   "language": "python",
   "name": "python3"
  },
  "language_info": {
   "codemirror_mode": {
    "name": "ipython",
    "version": 3
   },
   "file_extension": ".py",
   "mimetype": "text/x-python",
   "name": "python",
   "nbconvert_exporter": "python",
   "pygments_lexer": "ipython3",
   "version": "3.7.16"
  }
 },
 "nbformat": 4,
 "nbformat_minor": 1
}
